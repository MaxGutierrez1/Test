{
 "cells": [
  {
   "cell_type": "code",
   "execution_count": 3,
   "metadata": {},
   "outputs": [
    {
     "name": "stdout",
     "output_type": "stream",
     "text": [
      "Habitación número 100, habitación Doble, precio: $499.99, Estado de reserva:False\n",
      "Habitación número 101, habitación Presidencial, precio: $1199.99, Estado de reserva:False\n",
      "Habitación número 109, habitación Individual, precio: $199.99, Estado de reserva:False\n",
      "Reserva para Alejandro en habitación 100 del 2025-01-20 00:00:00 al 2025-01-25 00:00:00 - Total: $2499.95 \n",
      "Reserva para Lola en habitación 101 del 2025-02-01 00:00:00 al 2025-02-03 00:00:00 - Total: $2399.98 \n",
      "Reserva para Javier en habitación 109 del 2025-02-14 00:00:00 al 2025-02-16 00:00:00 - Total: $399.98 \n"
     ]
    }
   ],
   "source": [
    "from datetime import datetime\n",
    "class Habitacion:\n",
    "    #Atributo de clase: Color = 'azul'\n",
    "    def __init__(self,numero,tipo,precio,reservada):\n",
    "        self.numero = numero\n",
    "        self.tipo = tipo \n",
    "        self.precio = precio \n",
    "        self.reservada = False\n",
    "\n",
    "    def descripcion(self):\n",
    "        print(f\"Habitación número {self.numero}, habitación {self.tipo}, precio: ${self.precio}, Estado de reserva:{self.reservada}\") \n",
    "\n",
    "class Reserva:\n",
    "    def __init__(self,huesped, habitacion, fecha_inicio, fecha_fin):\n",
    "        self.huesped = huesped\n",
    "        self.habitacion = habitacion\n",
    "        self.fecha_inicio = fecha_inicio\n",
    "        self.fecha_fin = fecha_fin\n",
    "    \n",
    "    def calcular_costo(self):\n",
    "        dias = (self.fecha_fin - self.fecha_inicio).days\n",
    "        return dias*self.habitacion.precio\n",
    "    def detalle(self):\n",
    "\n",
    "        print(f\"Reserva para {self.huesped} en habitación {self.habitacion.numero} del {self.fecha_inicio} al {self.fecha_fin} - Total: ${self.calcular_costo()} \")\n",
    "\n",
    "\n",
    "#DateTIME(2025,1,20)\n",
    "\n",
    "\n",
    "\n",
    "\n",
    "\n",
    "Habitacion100 = Habitacion(100,\"Doble\",499.99,False) \n",
    "Habitacion101 = Habitacion(101,\"Presidencial\",1199.99,False) \n",
    "Habitacion109 = Habitacion(109,\"Individual\",199.99,False) \n",
    "\n",
    "\n",
    "Reserva1 = Reserva(\"Alejandro\", Habitacion100, datetime(2025,1,20), datetime(2025,1,25))\n",
    "Reserva2 = Reserva(\"Lola\",Habitacion101, datetime(2025,2,1),datetime(2025,2,3))\n",
    "Reserva3 = Reserva(\"Javier\",Habitacion109, datetime(2025,2,14),datetime(2025,2,16))\n",
    "\n",
    "\n",
    "Habitacion100.descripcion()\n",
    "Habitacion101.descripcion()\n",
    "Habitacion109.descripcion()\n",
    "\n",
    "\n",
    "Reserva1.detalle()\n",
    "Reserva2.detalle()\n",
    "Reserva3.detalle()\n",
    "\n",
    "\n"
   ]
  }
 ],
 "metadata": {
  "kernelspec": {
   "display_name": "Python 3",
   "language": "python",
   "name": "python3"
  },
  "language_info": {
   "codemirror_mode": {
    "name": "ipython",
    "version": 3
   },
   "file_extension": ".py",
   "mimetype": "text/x-python",
   "name": "python",
   "nbconvert_exporter": "python",
   "pygments_lexer": "ipython3",
   "version": "3.12.3"
  }
 },
 "nbformat": 4,
 "nbformat_minor": 2
}
